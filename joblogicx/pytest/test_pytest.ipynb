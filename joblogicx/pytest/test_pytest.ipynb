{
  "nbformat": 4,
  "nbformat_minor": 0,
  "metadata": {
    "colab": {
      "name": "test_pytest.ipynb",
      "provenance": [],
      "collapsed_sections": [],
      "authorship_tag": "ABX9TyPDTKNkWDyISpuIOL8FtF+x",
      "include_colab_link": true
    },
    "kernelspec": {
      "name": "python3",
      "display_name": "Python 3"
    }
  },
  "cells": [
    {
      "cell_type": "markdown",
      "metadata": {
        "id": "view-in-github",
        "colab_type": "text"
      },
      "source": [
        "<a href=\"https://colab.research.google.com/github/Tara-Su/Colab/blob/main/joblogicx/pytest/test_pytest.ipynb\" target=\"_parent\"><img src=\"https://colab.research.google.com/assets/colab-badge.svg\" alt=\"Open In Colab\"/></a>"
      ]
    },
    {
      "cell_type": "markdown",
      "metadata": {
        "id": "vC3A19vBtmj4"
      },
      "source": [
        "## First, you can mount your Google drive to your Colab. \n",
        "This is convenient for you to quickly iterate on your local modification and Colab notebook. You just need to write your underlying code in your favorite IDE on your local machine in Google drive folder, then you can run it in colab. "
      ]
    },
    {
      "cell_type": "code",
      "metadata": {
        "id": "LykvW2w6F30l",
        "outputId": "ac226da0-1c29-4d99-b2ac-cd4f606c53ab",
        "colab": {
          "base_uri": "https://localhost:8080/",
          "height": 34
        }
      },
      "source": [
        "# Mount\n",
        "from google.colab import drive\n",
        "drive.mount('/content/gdrive')"
      ],
      "execution_count": 44,
      "outputs": [
        {
          "output_type": "stream",
          "text": [
            "Drive already mounted at /content/gdrive; to attempt to forcibly remount, call drive.mount(\"/content/gdrive\", force_remount=True).\n"
          ],
          "name": "stdout"
        }
      ]
    },
    {
      "cell_type": "markdown",
      "metadata": {
        "id": "Qc8hXQq5u3BJ"
      },
      "source": [
        "## Run command line by addig \"!\" at the beginning of the line"
      ]
    },
    {
      "cell_type": "code",
      "metadata": {
        "id": "mqQ-hqa6FeRQ",
        "outputId": "915d6385-4f7a-4d61-bab9-f403637e5020",
        "colab": {
          "base_uri": "https://localhost:8080/",
          "height": 34
        }
      },
      "source": [
        "# Switch to the google drive folder\n",
        "%cd gdrive/My\\ Drive/"
      ],
      "execution_count": 51,
      "outputs": [
        {
          "output_type": "stream",
          "text": [
            "/content/gdrive/My Drive\n"
          ],
          "name": "stdout"
        }
      ]
    },
    {
      "cell_type": "code",
      "metadata": {
        "id": "buS3RAKB24ww"
      },
      "source": [
        "#%cd .."
      ],
      "execution_count": 52,
      "outputs": []
    },
    {
      "cell_type": "code",
      "metadata": {
        "id": "Nj3vgf5NFbKN",
        "outputId": "533916bf-37f9-4254-df3a-8cb365a5f3e8",
        "colab": {
          "base_uri": "https://localhost:8080/",
          "height": 34
        }
      },
      "source": [
        "!pwd"
      ],
      "execution_count": 57,
      "outputs": [
        {
          "output_type": "stream",
          "text": [
            "/content/gdrive/My Drive\n"
          ],
          "name": "stdout"
        }
      ]
    },
    {
      "cell_type": "code",
      "metadata": {
        "id": "dqWZW2JCxP4p",
        "outputId": "7ce633d2-4d78-4fba-dd02-bfc0fff1dabe",
        "colab": {
          "base_uri": "https://localhost:8080/",
          "height": 544
        }
      },
      "source": [
        "# The sample pytest code\n",
        "!cat Colab\\ Notebooks/scripts/colab_test/script.py"
      ],
      "execution_count": 58,
      "outputs": [
        {
          "output_type": "stream",
          "text": [
            "import pytest\n",
            "import numbers\n",
            "\n",
            "\n",
            "def a_add(a):\n",
            "    if not isinstance(a, numbers.Number):\n",
            "        raise  # TypeError('Please provide a number as argument')\n",
            "    print(\"{0}+3 is\".format(a), a + 3)\n",
            "    return a + 3\n",
            "\n",
            "\n",
            "def test_a_add():\n",
            "    assert a_add(3) == 6\n",
            "\n",
            "\n",
            "def test_lack_of_error_handling():\n",
            "    with pytest.raises(TypeError):\n",
            "        a_add(\"a\")\n",
            "\n",
            "#\n",
            "# def capital_case(x):\n",
            "#     return x.capitalize()\n",
            "#\n",
            "#\n",
            "# def test_capital_case():\n",
            "#     assert capital_case('semaphore') == 'Semaphore'\n",
            "#\n",
            "#\n",
            "# def test_raises_exception_on_non_string_arguments():\n",
            "#     with pytest.raises(AttributeError):\n",
            "#         capital_case(9)\n"
          ],
          "name": "stdout"
        }
      ]
    },
    {
      "cell_type": "code",
      "metadata": {
        "id": "_MDxbh9kKO8j",
        "outputId": "6007308f-f518-48b5-d7dc-8bef0f1c3d2a",
        "colab": {
          "base_uri": "https://localhost:8080/",
          "height": 170
        }
      },
      "source": [
        "# Run pytest\n",
        "!pytest /content/gdrive/My\\ Drive/Colab\\ Notebooks/scripts/colab_test/script.py -s"
      ],
      "execution_count": 55,
      "outputs": [
        {
          "output_type": "stream",
          "text": [
            "\u001b[1m============================= test session starts ==============================\u001b[0m\n",
            "platform linux2 -- Python 2.7.17, pytest-3.6.4, py-1.8.0, pluggy-0.7.1\n",
            "rootdir: /content/gdrive/My Drive, inifile:\n",
            "\u001b[1m\rcollecting 0 items                                                             \u001b[0m\u001b[1m\rcollecting 2 items                                                             \u001b[0m\u001b[1m\rcollected 2 items                                                              \u001b[0m\n",
            "\n",
            "Colab Notebooks/scripts/colab_test/script.py ('3+3 is', 6)\n",
            "..\n",
            "\n",
            "\u001b[32m\u001b[1m=========================== 2 passed in 0.04 seconds ===========================\u001b[0m\n"
          ],
          "name": "stdout"
        }
      ]
    },
    {
      "cell_type": "code",
      "metadata": {
        "id": "lNteMZkXzRNH"
      },
      "source": [
        ""
      ],
      "execution_count": null,
      "outputs": []
    }
  ]
}